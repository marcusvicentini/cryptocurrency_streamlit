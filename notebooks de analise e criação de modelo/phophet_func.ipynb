{
 "cells": [
  {
   "cell_type": "markdown",
   "metadata": {},
   "source": [
    "# Análise dos dados e criação do modelo de machine learning"
   ]
  },
  {
   "cell_type": "code",
   "execution_count": 1,
   "metadata": {},
   "outputs": [],
   "source": [
    "import pandas as pd\n",
    "import json\n",
    "import matplotlib.pyplot as plt\n",
    "import pymysql\n",
    "from sklearn.metrics import mean_squared_error\n",
    "from math import sqrt\n",
    "from prophet import Prophet\n",
    "import pickle\n"
   ]
  },
  {
   "cell_type": "markdown",
   "metadata": {},
   "source": [
    "### Imporatando os dados da AWS"
   ]
  },
  {
   "cell_type": "markdown",
   "metadata": {},
   "source": [
    "Primeiramente temos que pegar os dados da AWS e converter em um DataFrame para fazermos nossas análises"
   ]
  },
  {
   "cell_type": "code",
   "execution_count": 2,
   "metadata": {},
   "outputs": [],
   "source": [
    "#Carregando dados da AWS do arquivo json\n",
    "with open(\"aws_mysql_key.json\") as aws_keys:\n",
    "    keys = json.load(aws_keys)\n",
    "    username = keys['user']\n",
    "    password = keys['password']\n",
    "    endpoint = keys['endpoint']\n",
    "    database_name = keys['databasename']"
   ]
  },
  {
   "cell_type": "code",
   "execution_count": 3,
   "metadata": {},
   "outputs": [],
   "source": [
    "#Lista com os nomes das criptomoedas que serão armazenadas\n",
    "crypto_names = ['BTC', 'ETH', 'LTC']"
   ]
  },
  {
   "cell_type": "code",
   "execution_count": 44,
   "metadata": {},
   "outputs": [],
   "source": [
    "con = pymysql.connect(host=endpoint, user=username, password=password, database=database_name)\n",
    "cursor = con.cursor()\n",
    "cursor_query = \"SELECT * FROM ETH\"\n",
    "cursor.execute(cursor_query)\n",
    "data = cursor.fetchall()\n",
    "column_names = [column[0] for column in cursor.description]\n",
    "btc_data = []\n",
    "con.close()\n",
    "for record in data:\n",
    "    btc_data.append(dict(zip(column_names , record)))"
   ]
  },
  {
   "cell_type": "code",
   "execution_count": 45,
   "metadata": {},
   "outputs": [],
   "source": [
    "df_btc = pd.DataFrame.from_dict(btc_data)"
   ]
  },
  {
   "cell_type": "markdown",
   "metadata": {},
   "source": [
    "### Treinando modelo de machine learning"
   ]
  },
  {
   "cell_type": "markdown",
   "metadata": {},
   "source": [
    "Para este projeto vamos usar o Prophet do Facebook, que é uma biblioteca muito poderosa desenvolvida para fazer previsões de séries temporais. A função abaixo foi criada para automatizar o treino do modelo com diferentes configurações e tambpem para diferentes criptomoedas, fazendo com que nosso código possa ser reutilizado."
   ]
  },
  {
   "cell_type": "code",
   "execution_count": 46,
   "metadata": {},
   "outputs": [],
   "source": [
    "def apply_prophet(data_df, seasonality_mode, n_changepoints, changepoint_prior_scale, test_size):\n",
    "    \"\"\"\n",
    "    Recebe um DataFrame, faz todo seu pre-processamento e aplica o modelo Prophet para fazer previsões\n",
    "    \"\"\"\n",
    "\n",
    "    #Dividindo dados entre treino e teste, com 20 valores para teste e filtrando as colunas\n",
    "    train_data = data_df[:-test_size][['Date', 'Close']]\n",
    "    test_data = data_df[-test_size:][['Date', 'Close']]\n",
    "\n",
    "\n",
    "    #criando dict no formato especifico para o prophet e treinando o modelo\n",
    "    prophet_df = pd.DataFrame({'ds': train_data.Date, 'y': train_data.Close})\n",
    "    prophet_model = Prophet(seasonality_mode=seasonality_mode, n_changepoints=n_changepoints, changepoint_prior_scale=changepoint_prior_scale)\n",
    "    fitted = prophet_model.fit(prophet_df)\n",
    "\n",
    "    #prevendo valores com dados de treino\n",
    "    train_predicted = fitted.predict(pd.DataFrame({'ds': train_data.Date}))\n",
    "\n",
    "    #prevendo valores com dados de teste\n",
    "    test_predicted = fitted.predict(pd.DataFrame({'ds': test_data.Date}))\n",
    "\n",
    "    #RMSE dos dados de treino e teste\n",
    "    rmse_train = sqrt(mean_squared_error(train_data.Close, train_predicted.yhat))\n",
    "    rmse_test = sqrt(mean_squared_error(test_data.Close, test_predicted.yhat))\n",
    "\n",
    "    #Retornando um dicionario com os valores\n",
    "    return {'train_predicted': train_predicted,\n",
    "            'test_predicted': test_predicted,\n",
    "            'rmse_train': rmse_train,\n",
    "            'rmse_test': rmse_test,\n",
    "            'fitted_model': fitted,\n",
    "            'test_size': test_size\n",
    "\n",
    "    }\n",
    "\n"
   ]
  },
  {
   "cell_type": "code",
   "execution_count": 47,
   "metadata": {},
   "outputs": [],
   "source": [
    "# Função que plota o valor da criptomoeda e sua previsão\n",
    "def plot_crypto(crypto_df, trained_object_dict):\n",
    "    \"\"\"\n",
    "    Plota preço historico e a previsão de preço da criptomoeda\n",
    "    \"\"\"\n",
    "    figure = plt.figure(figsize=(15,10))\n",
    "    plt.plot(crypto_df['Date'], crypto_df['Close'])\n",
    "    plt.plot(crypto_df[:-trained_object_dict['test_size']]['Date'], trained_object_dict['train_predicted'].yhat, color='green')\n",
    "    plt.plot(crypto_df[-trained_object_dict['test_size']: len(crypto_df)]['Date'], trained_object_dict['test_predicted'].yhat, color='red')\n",
    "    plt.show()"
   ]
  },
  {
   "cell_type": "code",
   "execution_count": 48,
   "metadata": {},
   "outputs": [
    {
     "name": "stderr",
     "output_type": "stream",
     "text": [
      "22:02:42 - cmdstanpy - INFO - Chain [1] start processing\n",
      "22:02:44 - cmdstanpy - INFO - Chain [1] done processing\n"
     ]
    }
   ],
   "source": [
    "btc_treinado = apply_prophet(df_btc, 'multiplicative', 30, 10, 20)"
   ]
  },
  {
   "cell_type": "markdown",
   "metadata": {},
   "source": [
    "Depois de treinado nosso modelo vamos verificar a métrica rmse com o bloco decódigo abaixo"
   ]
  },
  {
   "cell_type": "code",
   "execution_count": 49,
   "metadata": {},
   "outputs": [
    {
     "name": "stdout",
     "output_type": "stream",
     "text": [
      "Resultados:\n",
      "RMSE com dados de treino: 147.73150264817102\n",
      "RMSE com dados de teste: 84.0241823434274\n"
     ]
    }
   ],
   "source": [
    "print(\"Resultados:\")\n",
    "print(f\"RMSE com dados de treino: {btc_treinado['rmse_train']}\")\n",
    "print(f\"RMSE com dados de teste: {btc_treinado['rmse_test']}\")"
   ]
  },
  {
   "cell_type": "code",
   "execution_count": 50,
   "metadata": {},
   "outputs": [
    {
     "data": {
      "image/png": "[encoded data removed]",
      "text/plain": [
       "<Figure size 1080x720 with 1 Axes>"
      ]
     },
     "metadata": {
      "needs_background": "light"
     },
     "output_type": "display_data"
    }
   ],
   "source": [
    "plot_crypto(df_btc, btc_treinado)"
   ]
  },
  {
   "cell_type": "markdown",
   "metadata": {},
   "source": [
    "### Tunning do algoritmo"
   ]
  },
  {
   "cell_type": "markdown",
   "metadata": {},
   "source": [
    "Para melhorar a performance do nosso modelo vamos fazer testes exaustivos com diversos parametros e verificar quais apresentam o melhor resultado, ou seja, o menor RMSE"
   ]
  },
  {
   "cell_type": "code",
   "execution_count": 34,
   "metadata": {},
   "outputs": [],
   "source": [
    "#Parametros que serão testados\n",
    "n_change = (30, 50, 80, 100, 120, 140, 180)\n",
    "cp_prior = (5, 8, 10, 12, 16, 20, 25, 30, 35, 40)\n",
    "seasons = ['multiplicative', 'additive']"
   ]
  },
  {
   "cell_type": "code",
   "execution_count": 35,
   "metadata": {},
   "outputs": [],
   "source": [
    "def prophet_grid_search(df_crypto, seasonality_mode, n_changepoints, changepoint_prior_scale, test_size):\n",
    "    \"\"\"\n",
    "    Testa todas as combinações das listas de parametros passados no modelo, retorna o melhor grupo de parametros\n",
    "    \"\"\"\n",
    "\n",
    "    best_rmse = 9000\n",
    "    best_nchange = 0\n",
    "    best_cprior = 0\n",
    "    best_seasonality = \"\"\n",
    "    for n_c in n_changepoints:\n",
    "\n",
    "        for prior in changepoint_prior_scale:\n",
    "            for season in seasonality_mode:\n",
    "                btc_treinado = apply_prophet(df_crypto, season, n_c, prior, test_size)\n",
    "                if btc_treinado['rmse_test'] < best_rmse:\n",
    "                    best_rmse = btc_treinado['rmse_test']\n",
    "                    best_nchange = n_c\n",
    "                    best_cprior = prior\n",
    "                    best_seasonality = season\n",
    "                print(f\"Melhor ate agora: {best_rmse}\")\n",
    "    \n",
    "    print(f\"Melhor RMSE para dados de teste: {best_rmse}\\nMelhor nChange: {best_nchange}\\nMelhor cp_prior: {best_cprior}\\nMelhor Seasonality: {best_seasonality}\")\n",
    "\n",
    "\n"
   ]
  },
  {
   "cell_type": "markdown",
   "metadata": {},
   "source": [
    "Para usar a função acima basta fazer o chamado conforme o codigo abaixo"
   ]
  },
  {
   "cell_type": "code",
   "execution_count": 36,
   "metadata": {},
   "outputs": [
    {
     "name": "stderr",
     "output_type": "stream",
     "text": [
      "21:15:39 - cmdstanpy - INFO - Chain [1] start processing\n",
      "21:15:41 - cmdstanpy - INFO - Chain [1] done processing\n",
      "21:15:44 - cmdstanpy - INFO - Chain [1] start processing\n"
     ]
    },
    {
     "name": "stdout",
     "output_type": "stream",
     "text": [
      "Best so far: 3.1465775414460073\n"
     ]
    },
    {
     "name": "stderr",
     "output_type": "stream",
     "text": [
      "21:15:46 - cmdstanpy - INFO - Chain [1] done processing\n",
      "21:15:49 - cmdstanpy - INFO - Chain [1] start processing\n"
     ]
    },
    {
     "name": "stdout",
     "output_type": "stream",
     "text": [
      "Best so far: 3.1465775414460073\n"
     ]
    },
    {
     "name": "stderr",
     "output_type": "stream",
     "text": [
      "21:15:51 - cmdstanpy - INFO - Chain [1] done processing\n",
      "21:15:53 - cmdstanpy - INFO - Chain [1] start processing\n"
     ]
    },
    {
     "name": "stdout",
     "output_type": "stream",
     "text": [
      "Best so far: 2.946847251763965\n"
     ]
    },
    {
     "name": "stderr",
     "output_type": "stream",
     "text": [
      "21:15:55 - cmdstanpy - INFO - Chain [1] done processing\n",
      "21:15:58 - cmdstanpy - INFO - Chain [1] start processing\n"
     ]
    },
    {
     "name": "stdout",
     "output_type": "stream",
     "text": [
      "Best so far: 2.946847251763965\n"
     ]
    },
    {
     "name": "stderr",
     "output_type": "stream",
     "text": [
      "21:15:59 - cmdstanpy - INFO - Chain [1] done processing\n",
      "21:16:03 - cmdstanpy - INFO - Chain [1] start processing\n"
     ]
    },
    {
     "name": "stdout",
     "output_type": "stream",
     "text": [
      "Best so far: 2.946847251763965\n"
     ]
    },
    {
     "name": "stderr",
     "output_type": "stream",
     "text": [
      "21:16:03 - cmdstanpy - INFO - Chain [1] done processing\n",
      "21:16:07 - cmdstanpy - INFO - Chain [1] start processing\n"
     ]
    },
    {
     "name": "stdout",
     "output_type": "stream",
     "text": [
      "Best so far: 2.946847251763965\n"
     ]
    },
    {
     "name": "stderr",
     "output_type": "stream",
     "text": [
      "21:16:09 - cmdstanpy - INFO - Chain [1] done processing\n",
      "21:16:12 - cmdstanpy - INFO - Chain [1] start processing\n"
     ]
    },
    {
     "name": "stdout",
     "output_type": "stream",
     "text": [
      "Best so far: 2.946847251763965\n"
     ]
    },
    {
     "name": "stderr",
     "output_type": "stream",
     "text": [
      "21:16:13 - cmdstanpy - INFO - Chain [1] done processing\n",
      "21:16:16 - cmdstanpy - INFO - Chain [1] start processing\n"
     ]
    },
    {
     "name": "stdout",
     "output_type": "stream",
     "text": [
      "Best so far: 2.946847251763965\n"
     ]
    },
    {
     "name": "stderr",
     "output_type": "stream",
     "text": [
      "21:16:18 - cmdstanpy - INFO - Chain [1] done processing\n",
      "21:16:21 - cmdstanpy - INFO - Chain [1] start processing\n"
     ]
    },
    {
     "name": "stdout",
     "output_type": "stream",
     "text": [
      "Best so far: 2.8034860413989877\n"
     ]
    },
    {
     "name": "stderr",
     "output_type": "stream",
     "text": [
      "21:16:22 - cmdstanpy - INFO - Chain [1] done processing\n",
      "21:16:25 - cmdstanpy - INFO - Chain [1] start processing\n"
     ]
    },
    {
     "name": "stdout",
     "output_type": "stream",
     "text": [
      "Best so far: 2.8034860413989877\n"
     ]
    },
    {
     "name": "stderr",
     "output_type": "stream",
     "text": [
      "21:16:27 - cmdstanpy - INFO - Chain [1] done processing\n",
      "21:16:31 - cmdstanpy - INFO - Chain [1] start processing\n"
     ]
    },
    {
     "name": "stdout",
     "output_type": "stream",
     "text": [
      "Best so far: 2.8034860413989877\n"
     ]
    },
    {
     "name": "stderr",
     "output_type": "stream",
     "text": [
      "21:16:32 - cmdstanpy - INFO - Chain [1] done processing\n",
      "21:16:35 - cmdstanpy - INFO - Chain [1] start processing\n"
     ]
    },
    {
     "name": "stdout",
     "output_type": "stream",
     "text": [
      "Best so far: 2.8034860413989877\n"
     ]
    },
    {
     "name": "stderr",
     "output_type": "stream",
     "text": [
      "21:16:37 - cmdstanpy - INFO - Chain [1] done processing\n",
      "21:16:40 - cmdstanpy - INFO - Chain [1] start processing\n"
     ]
    },
    {
     "name": "stdout",
     "output_type": "stream",
     "text": [
      "Best so far: 2.8034860413989877\n"
     ]
    },
    {
     "name": "stderr",
     "output_type": "stream",
     "text": [
      "21:16:41 - cmdstanpy - INFO - Chain [1] done processing\n",
      "21:16:44 - cmdstanpy - INFO - Chain [1] start processing\n"
     ]
    },
    {
     "name": "stdout",
     "output_type": "stream",
     "text": [
      "Best so far: 2.8034860413989877\n"
     ]
    },
    {
     "name": "stderr",
     "output_type": "stream",
     "text": [
      "21:16:46 - cmdstanpy - INFO - Chain [1] done processing\n",
      "21:16:49 - cmdstanpy - INFO - Chain [1] start processing\n"
     ]
    },
    {
     "name": "stdout",
     "output_type": "stream",
     "text": [
      "Best so far: 2.8034860413989877\n"
     ]
    },
    {
     "name": "stderr",
     "output_type": "stream",
     "text": [
      "21:16:51 - cmdstanpy - INFO - Chain [1] done processing\n",
      "21:16:54 - cmdstanpy - INFO - Chain [1] start processing\n"
     ]
    },
    {
     "name": "stdout",
     "output_type": "stream",
     "text": [
      "Best so far: 2.8034860413989877\n"
     ]
    },
    {
     "name": "stderr",
     "output_type": "stream",
     "text": [
      "21:16:56 - cmdstanpy - INFO - Chain [1] done processing\n",
      "21:16:59 - cmdstanpy - INFO - Chain [1] start processing\n"
     ]
    },
    {
     "name": "stdout",
     "output_type": "stream",
     "text": [
      "Best so far: 2.8034860413989877\n"
     ]
    },
    {
     "name": "stderr",
     "output_type": "stream",
     "text": [
      "21:17:00 - cmdstanpy - INFO - Chain [1] done processing\n",
      "21:17:03 - cmdstanpy - INFO - Chain [1] start processing\n"
     ]
    },
    {
     "name": "stdout",
     "output_type": "stream",
     "text": [
      "Best so far: 2.8034860413989877\n"
     ]
    },
    {
     "name": "stderr",
     "output_type": "stream",
     "text": [
      "21:17:05 - cmdstanpy - INFO - Chain [1] done processing\n",
      "21:17:08 - cmdstanpy - INFO - Chain [1] start processing\n"
     ]
    },
    {
     "name": "stdout",
     "output_type": "stream",
     "text": [
      "Best so far: 2.8034860413989877\n"
     ]
    },
    {
     "name": "stderr",
     "output_type": "stream",
     "text": [
      "21:17:09 - cmdstanpy - INFO - Chain [1] done processing\n",
      "21:17:12 - cmdstanpy - INFO - Chain [1] start processing\n"
     ]
    },
    {
     "name": "stdout",
     "output_type": "stream",
     "text": [
      "Best so far: 2.8034860413989877\n"
     ]
    },
    {
     "name": "stderr",
     "output_type": "stream",
     "text": [
      "21:17:15 - cmdstanpy - INFO - Chain [1] done processing\n",
      "21:17:19 - cmdstanpy - INFO - Chain [1] start processing\n"
     ]
    },
    {
     "name": "stdout",
     "output_type": "stream",
     "text": [
      "Best so far: 2.8034860413989877\n"
     ]
    },
    {
     "name": "stderr",
     "output_type": "stream",
     "text": [
      "21:17:22 - cmdstanpy - INFO - Chain [1] done processing\n",
      "21:17:25 - cmdstanpy - INFO - Chain [1] start processing\n"
     ]
    },
    {
     "name": "stdout",
     "output_type": "stream",
     "text": [
      "Best so far: 2.8034860413989877\n"
     ]
    },
    {
     "name": "stderr",
     "output_type": "stream",
     "text": [
      "21:17:28 - cmdstanpy - INFO - Chain [1] done processing\n",
      "21:17:31 - cmdstanpy - INFO - Chain [1] start processing\n"
     ]
    },
    {
     "name": "stdout",
     "output_type": "stream",
     "text": [
      "Best so far: 2.8034860413989877\n"
     ]
    },
    {
     "name": "stderr",
     "output_type": "stream",
     "text": [
      "21:17:35 - cmdstanpy - INFO - Chain [1] done processing\n",
      "21:17:38 - cmdstanpy - INFO - Chain [1] start processing\n"
     ]
    },
    {
     "name": "stdout",
     "output_type": "stream",
     "text": [
      "Best so far: 2.8034860413989877\n"
     ]
    },
    {
     "name": "stderr",
     "output_type": "stream",
     "text": [
      "21:17:40 - cmdstanpy - INFO - Chain [1] done processing\n",
      "21:17:44 - cmdstanpy - INFO - Chain [1] start processing\n"
     ]
    },
    {
     "name": "stdout",
     "output_type": "stream",
     "text": [
      "Best so far: 2.8034860413989877\n"
     ]
    },
    {
     "name": "stderr",
     "output_type": "stream",
     "text": [
      "21:17:47 - cmdstanpy - INFO - Chain [1] done processing\n",
      "21:17:50 - cmdstanpy - INFO - Chain [1] start processing\n"
     ]
    },
    {
     "name": "stdout",
     "output_type": "stream",
     "text": [
      "Best so far: 2.8034860413989877\n"
     ]
    },
    {
     "name": "stderr",
     "output_type": "stream",
     "text": [
      "21:17:53 - cmdstanpy - INFO - Chain [1] done processing\n",
      "21:17:56 - cmdstanpy - INFO - Chain [1] start processing\n"
     ]
    },
    {
     "name": "stdout",
     "output_type": "stream",
     "text": [
      "Best so far: 2.8034860413989877\n"
     ]
    },
    {
     "name": "stderr",
     "output_type": "stream",
     "text": [
      "21:17:59 - cmdstanpy - INFO - Chain [1] done processing\n",
      "21:18:03 - cmdstanpy - INFO - Chain [1] start processing\n"
     ]
    },
    {
     "name": "stdout",
     "output_type": "stream",
     "text": [
      "Best so far: 2.8034860413989877\n"
     ]
    },
    {
     "name": "stderr",
     "output_type": "stream",
     "text": [
      "21:18:05 - cmdstanpy - INFO - Chain [1] done processing\n",
      "21:18:09 - cmdstanpy - INFO - Chain [1] start processing\n"
     ]
    },
    {
     "name": "stdout",
     "output_type": "stream",
     "text": [
      "Best so far: 2.8034860413989877\n"
     ]
    },
    {
     "name": "stderr",
     "output_type": "stream",
     "text": [
      "21:18:12 - cmdstanpy - INFO - Chain [1] done processing\n",
      "21:18:15 - cmdstanpy - INFO - Chain [1] start processing\n"
     ]
    },
    {
     "name": "stdout",
     "output_type": "stream",
     "text": [
      "Best so far: 2.8034860413989877\n"
     ]
    },
    {
     "name": "stderr",
     "output_type": "stream",
     "text": [
      "21:18:18 - cmdstanpy - INFO - Chain [1] done processing\n",
      "21:18:22 - cmdstanpy - INFO - Chain [1] start processing\n"
     ]
    },
    {
     "name": "stdout",
     "output_type": "stream",
     "text": [
      "Best so far: 2.8034860413989877\n"
     ]
    },
    {
     "name": "stderr",
     "output_type": "stream",
     "text": [
      "21:18:24 - cmdstanpy - INFO - Chain [1] done processing\n",
      "21:18:28 - cmdstanpy - INFO - Chain [1] start processing\n"
     ]
    },
    {
     "name": "stdout",
     "output_type": "stream",
     "text": [
      "Best so far: 2.8034860413989877\n"
     ]
    },
    {
     "name": "stderr",
     "output_type": "stream",
     "text": [
      "21:18:31 - cmdstanpy - INFO - Chain [1] done processing\n",
      "21:18:35 - cmdstanpy - INFO - Chain [1] start processing\n"
     ]
    },
    {
     "name": "stdout",
     "output_type": "stream",
     "text": [
      "Best so far: 2.8034860413989877\n"
     ]
    },
    {
     "name": "stderr",
     "output_type": "stream",
     "text": [
      "21:18:37 - cmdstanpy - INFO - Chain [1] done processing\n",
      "21:18:41 - cmdstanpy - INFO - Chain [1] start processing\n"
     ]
    },
    {
     "name": "stdout",
     "output_type": "stream",
     "text": [
      "Best so far: 2.8034860413989877\n"
     ]
    },
    {
     "name": "stderr",
     "output_type": "stream",
     "text": [
      "21:18:44 - cmdstanpy - INFO - Chain [1] done processing\n",
      "21:18:47 - cmdstanpy - INFO - Chain [1] start processing\n"
     ]
    },
    {
     "name": "stdout",
     "output_type": "stream",
     "text": [
      "Best so far: 2.8034860413989877\n"
     ]
    },
    {
     "name": "stderr",
     "output_type": "stream",
     "text": [
      "21:18:50 - cmdstanpy - INFO - Chain [1] done processing\n",
      "21:18:54 - cmdstanpy - INFO - Chain [1] start processing\n"
     ]
    },
    {
     "name": "stdout",
     "output_type": "stream",
     "text": [
      "Best so far: 2.8034860413989877\n"
     ]
    },
    {
     "name": "stderr",
     "output_type": "stream",
     "text": [
      "21:18:57 - cmdstanpy - INFO - Chain [1] done processing\n",
      "21:19:00 - cmdstanpy - INFO - Chain [1] start processing\n"
     ]
    },
    {
     "name": "stdout",
     "output_type": "stream",
     "text": [
      "Best so far: 2.8034860413989877\n"
     ]
    },
    {
     "name": "stderr",
     "output_type": "stream",
     "text": [
      "21:19:03 - cmdstanpy - INFO - Chain [1] done processing\n",
      "21:19:06 - cmdstanpy - INFO - Chain [1] start processing\n"
     ]
    },
    {
     "name": "stdout",
     "output_type": "stream",
     "text": [
      "Best so far: 2.8034860413989877\n"
     ]
    },
    {
     "name": "stderr",
     "output_type": "stream",
     "text": [
      "21:19:09 - cmdstanpy - INFO - Chain [1] done processing\n",
      "21:19:12 - cmdstanpy - INFO - Chain [1] start processing\n"
     ]
    },
    {
     "name": "stdout",
     "output_type": "stream",
     "text": [
      "Best so far: 2.8034860413989877\n"
     ]
    },
    {
     "name": "stderr",
     "output_type": "stream",
     "text": [
      "21:19:15 - cmdstanpy - INFO - Chain [1] done processing\n",
      "21:19:18 - cmdstanpy - INFO - Chain [1] start processing\n"
     ]
    },
    {
     "name": "stdout",
     "output_type": "stream",
     "text": [
      "Best so far: 2.8034860413989877\n"
     ]
    },
    {
     "name": "stderr",
     "output_type": "stream",
     "text": [
      "21:19:22 - cmdstanpy - INFO - Chain [1] done processing\n",
      "21:19:26 - cmdstanpy - INFO - Chain [1] start processing\n"
     ]
    },
    {
     "name": "stdout",
     "output_type": "stream",
     "text": [
      "Best so far: 2.8034860413989877\n"
     ]
    },
    {
     "name": "stderr",
     "output_type": "stream",
     "text": [
      "21:19:30 - cmdstanpy - INFO - Chain [1] done processing\n",
      "21:19:34 - cmdstanpy - INFO - Chain [1] start processing\n"
     ]
    },
    {
     "name": "stdout",
     "output_type": "stream",
     "text": [
      "Best so far: 2.8034860413989877\n"
     ]
    },
    {
     "name": "stderr",
     "output_type": "stream",
     "text": [
      "21:19:39 - cmdstanpy - INFO - Chain [1] done processing\n",
      "21:19:43 - cmdstanpy - INFO - Chain [1] start processing\n"
     ]
    },
    {
     "name": "stdout",
     "output_type": "stream",
     "text": [
      "Best so far: 2.8034860413989877\n"
     ]
    },
    {
     "name": "stderr",
     "output_type": "stream",
     "text": [
      "21:19:46 - cmdstanpy - INFO - Chain [1] done processing\n",
      "21:19:51 - cmdstanpy - INFO - Chain [1] start processing\n"
     ]
    },
    {
     "name": "stdout",
     "output_type": "stream",
     "text": [
      "Best so far: 2.8034860413989877\n"
     ]
    },
    {
     "name": "stderr",
     "output_type": "stream",
     "text": [
      "21:19:54 - cmdstanpy - INFO - Chain [1] done processing\n",
      "21:19:59 - cmdstanpy - INFO - Chain [1] start processing\n"
     ]
    },
    {
     "name": "stdout",
     "output_type": "stream",
     "text": [
      "Best so far: 2.8034860413989877\n"
     ]
    },
    {
     "name": "stderr",
     "output_type": "stream",
     "text": [
      "21:20:03 - cmdstanpy - INFO - Chain [1] done processing\n",
      "21:20:07 - cmdstanpy - INFO - Chain [1] start processing\n"
     ]
    },
    {
     "name": "stdout",
     "output_type": "stream",
     "text": [
      "Best so far: 2.8034860413989877\n"
     ]
    },
    {
     "name": "stderr",
     "output_type": "stream",
     "text": [
      "21:20:10 - cmdstanpy - INFO - Chain [1] done processing\n",
      "21:20:14 - cmdstanpy - INFO - Chain [1] start processing\n"
     ]
    },
    {
     "name": "stdout",
     "output_type": "stream",
     "text": [
      "Best so far: 2.8034860413989877\n"
     ]
    },
    {
     "name": "stderr",
     "output_type": "stream",
     "text": [
      "21:20:18 - cmdstanpy - INFO - Chain [1] done processing\n",
      "21:20:22 - cmdstanpy - INFO - Chain [1] start processing\n"
     ]
    },
    {
     "name": "stdout",
     "output_type": "stream",
     "text": [
      "Best so far: 2.8034860413989877\n"
     ]
    },
    {
     "name": "stderr",
     "output_type": "stream",
     "text": [
      "21:20:27 - cmdstanpy - INFO - Chain [1] done processing\n",
      "21:20:31 - cmdstanpy - INFO - Chain [1] start processing\n"
     ]
    },
    {
     "name": "stdout",
     "output_type": "stream",
     "text": [
      "Best so far: 2.8034860413989877\n"
     ]
    },
    {
     "name": "stderr",
     "output_type": "stream",
     "text": [
      "21:20:35 - cmdstanpy - INFO - Chain [1] done processing\n",
      "21:20:40 - cmdstanpy - INFO - Chain [1] start processing\n"
     ]
    },
    {
     "name": "stdout",
     "output_type": "stream",
     "text": [
      "Best so far: 2.8034860413989877\n"
     ]
    },
    {
     "name": "stderr",
     "output_type": "stream",
     "text": [
      "21:20:45 - cmdstanpy - INFO - Chain [1] done processing\n",
      "21:20:50 - cmdstanpy - INFO - Chain [1] start processing\n"
     ]
    },
    {
     "name": "stdout",
     "output_type": "stream",
     "text": [
      "Best so far: 2.8034860413989877\n"
     ]
    },
    {
     "name": "stderr",
     "output_type": "stream",
     "text": [
      "21:20:55 - cmdstanpy - INFO - Chain [1] done processing\n",
      "21:20:59 - cmdstanpy - INFO - Chain [1] start processing\n"
     ]
    },
    {
     "name": "stdout",
     "output_type": "stream",
     "text": [
      "Best so far: 2.8034860413989877\n"
     ]
    },
    {
     "name": "stderr",
     "output_type": "stream",
     "text": [
      "21:21:04 - cmdstanpy - INFO - Chain [1] done processing\n",
      "21:21:09 - cmdstanpy - INFO - Chain [1] start processing\n"
     ]
    },
    {
     "name": "stdout",
     "output_type": "stream",
     "text": [
      "Best so far: 2.8034860413989877\n"
     ]
    },
    {
     "name": "stderr",
     "output_type": "stream",
     "text": [
      "21:21:14 - cmdstanpy - INFO - Chain [1] done processing\n",
      "21:21:19 - cmdstanpy - INFO - Chain [1] start processing\n"
     ]
    },
    {
     "name": "stdout",
     "output_type": "stream",
     "text": [
      "Best so far: 2.8034860413989877\n"
     ]
    },
    {
     "name": "stderr",
     "output_type": "stream",
     "text": [
      "21:21:23 - cmdstanpy - INFO - Chain [1] done processing\n",
      "21:21:27 - cmdstanpy - INFO - Chain [1] start processing\n"
     ]
    },
    {
     "name": "stdout",
     "output_type": "stream",
     "text": [
      "Best so far: 2.8034860413989877\n"
     ]
    },
    {
     "name": "stderr",
     "output_type": "stream",
     "text": [
      "21:21:31 - cmdstanpy - INFO - Chain [1] done processing\n",
      "21:21:36 - cmdstanpy - INFO - Chain [1] start processing\n"
     ]
    },
    {
     "name": "stdout",
     "output_type": "stream",
     "text": [
      "Best so far: 2.8034860413989877\n"
     ]
    },
    {
     "name": "stderr",
     "output_type": "stream",
     "text": [
      "21:21:40 - cmdstanpy - INFO - Chain [1] done processing\n",
      "21:21:44 - cmdstanpy - INFO - Chain [1] start processing\n"
     ]
    },
    {
     "name": "stdout",
     "output_type": "stream",
     "text": [
      "Best so far: 2.8034860413989877\n"
     ]
    },
    {
     "name": "stderr",
     "output_type": "stream",
     "text": [
      "21:21:48 - cmdstanpy - INFO - Chain [1] done processing\n",
      "21:21:52 - cmdstanpy - INFO - Chain [1] start processing\n"
     ]
    },
    {
     "name": "stdout",
     "output_type": "stream",
     "text": [
      "Best so far: 2.8034860413989877\n"
     ]
    },
    {
     "name": "stderr",
     "output_type": "stream",
     "text": [
      "21:21:56 - cmdstanpy - INFO - Chain [1] done processing\n",
      "21:22:00 - cmdstanpy - INFO - Chain [1] start processing\n"
     ]
    },
    {
     "name": "stdout",
     "output_type": "stream",
     "text": [
      "Best so far: 2.8034860413989877\n"
     ]
    },
    {
     "name": "stderr",
     "output_type": "stream",
     "text": [
      "21:22:04 - cmdstanpy - INFO - Chain [1] done processing\n",
      "21:22:08 - cmdstanpy - INFO - Chain [1] start processing\n"
     ]
    },
    {
     "name": "stdout",
     "output_type": "stream",
     "text": [
      "Best so far: 2.8034860413989877\n"
     ]
    },
    {
     "name": "stderr",
     "output_type": "stream",
     "text": [
      "21:22:13 - cmdstanpy - INFO - Chain [1] done processing\n",
      "21:22:19 - cmdstanpy - INFO - Chain [1] start processing\n"
     ]
    },
    {
     "name": "stdout",
     "output_type": "stream",
     "text": [
      "Best so far: 2.8034860413989877\n"
     ]
    },
    {
     "name": "stderr",
     "output_type": "stream",
     "text": [
      "21:22:24 - cmdstanpy - INFO - Chain [1] done processing\n",
      "21:22:28 - cmdstanpy - INFO - Chain [1] start processing\n"
     ]
    },
    {
     "name": "stdout",
     "output_type": "stream",
     "text": [
      "Best so far: 2.8034860413989877\n"
     ]
    },
    {
     "name": "stderr",
     "output_type": "stream",
     "text": [
      "21:22:32 - cmdstanpy - INFO - Chain [1] done processing\n",
      "21:22:37 - cmdstanpy - INFO - Chain [1] start processing\n"
     ]
    },
    {
     "name": "stdout",
     "output_type": "stream",
     "text": [
      "Best so far: 2.8034860413989877\n"
     ]
    },
    {
     "name": "stderr",
     "output_type": "stream",
     "text": [
      "21:22:42 - cmdstanpy - INFO - Chain [1] done processing\n",
      "21:22:46 - cmdstanpy - INFO - Chain [1] start processing\n"
     ]
    },
    {
     "name": "stdout",
     "output_type": "stream",
     "text": [
      "Best so far: 2.8034860413989877\n"
     ]
    },
    {
     "name": "stderr",
     "output_type": "stream",
     "text": [
      "21:22:50 - cmdstanpy - INFO - Chain [1] done processing\n",
      "21:22:55 - cmdstanpy - INFO - Chain [1] start processing\n"
     ]
    },
    {
     "name": "stdout",
     "output_type": "stream",
     "text": [
      "Best so far: 2.8034860413989877\n"
     ]
    },
    {
     "name": "stderr",
     "output_type": "stream",
     "text": [
      "21:23:00 - cmdstanpy - INFO - Chain [1] done processing\n",
      "21:23:04 - cmdstanpy - INFO - Chain [1] start processing\n"
     ]
    },
    {
     "name": "stdout",
     "output_type": "stream",
     "text": [
      "Best so far: 2.8034860413989877\n"
     ]
    },
    {
     "name": "stderr",
     "output_type": "stream",
     "text": [
      "21:23:10 - cmdstanpy - INFO - Chain [1] done processing\n",
      "21:23:14 - cmdstanpy - INFO - Chain [1] start processing\n"
     ]
    },
    {
     "name": "stdout",
     "output_type": "stream",
     "text": [
      "Best so far: 2.8034860413989877\n"
     ]
    },
    {
     "name": "stderr",
     "output_type": "stream",
     "text": [
      "21:23:18 - cmdstanpy - INFO - Chain [1] done processing\n",
      "21:23:23 - cmdstanpy - INFO - Chain [1] start processing\n"
     ]
    },
    {
     "name": "stdout",
     "output_type": "stream",
     "text": [
      "Best so far: 2.8034860413989877\n"
     ]
    },
    {
     "name": "stderr",
     "output_type": "stream",
     "text": [
      "21:23:27 - cmdstanpy - INFO - Chain [1] done processing\n",
      "21:23:32 - cmdstanpy - INFO - Chain [1] start processing\n"
     ]
    },
    {
     "name": "stdout",
     "output_type": "stream",
     "text": [
      "Best so far: 2.8034860413989877\n"
     ]
    },
    {
     "name": "stderr",
     "output_type": "stream",
     "text": [
      "21:23:37 - cmdstanpy - INFO - Chain [1] done processing\n",
      "21:23:41 - cmdstanpy - INFO - Chain [1] start processing\n"
     ]
    },
    {
     "name": "stdout",
     "output_type": "stream",
     "text": [
      "Best so far: 2.8034860413989877\n"
     ]
    },
    {
     "name": "stderr",
     "output_type": "stream",
     "text": [
      "21:23:45 - cmdstanpy - INFO - Chain [1] done processing\n",
      "21:23:51 - cmdstanpy - INFO - Chain [1] start processing\n"
     ]
    },
    {
     "name": "stdout",
     "output_type": "stream",
     "text": [
      "Best so far: 2.8034860413989877\n"
     ]
    },
    {
     "name": "stderr",
     "output_type": "stream",
     "text": [
      "21:23:55 - cmdstanpy - INFO - Chain [1] done processing\n",
      "21:23:59 - cmdstanpy - INFO - Chain [1] start processing\n"
     ]
    },
    {
     "name": "stdout",
     "output_type": "stream",
     "text": [
      "Best so far: 2.8034860413989877\n"
     ]
    },
    {
     "name": "stderr",
     "output_type": "stream",
     "text": [
      "21:24:05 - cmdstanpy - INFO - Chain [1] done processing\n",
      "21:24:09 - cmdstanpy - INFO - Chain [1] start processing\n"
     ]
    },
    {
     "name": "stdout",
     "output_type": "stream",
     "text": [
      "Best so far: 2.8034860413989877\n"
     ]
    },
    {
     "name": "stderr",
     "output_type": "stream",
     "text": [
      "21:24:13 - cmdstanpy - INFO - Chain [1] done processing\n",
      "21:24:18 - cmdstanpy - INFO - Chain [1] start processing\n"
     ]
    },
    {
     "name": "stdout",
     "output_type": "stream",
     "text": [
      "Best so far: 2.8034860413989877\n"
     ]
    },
    {
     "name": "stderr",
     "output_type": "stream",
     "text": [
      "21:24:22 - cmdstanpy - INFO - Chain [1] done processing\n",
      "21:24:28 - cmdstanpy - INFO - Chain [1] start processing\n"
     ]
    },
    {
     "name": "stdout",
     "output_type": "stream",
     "text": [
      "Best so far: 2.8034860413989877\n"
     ]
    },
    {
     "name": "stderr",
     "output_type": "stream",
     "text": [
      "21:24:32 - cmdstanpy - INFO - Chain [1] done processing\n",
      "21:24:36 - cmdstanpy - INFO - Chain [1] start processing\n"
     ]
    },
    {
     "name": "stdout",
     "output_type": "stream",
     "text": [
      "Best so far: 2.8034860413989877\n"
     ]
    },
    {
     "name": "stderr",
     "output_type": "stream",
     "text": [
      "21:24:42 - cmdstanpy - INFO - Chain [1] done processing\n",
      "21:24:46 - cmdstanpy - INFO - Chain [1] start processing\n"
     ]
    },
    {
     "name": "stdout",
     "output_type": "stream",
     "text": [
      "Best so far: 2.8034860413989877\n"
     ]
    },
    {
     "name": "stderr",
     "output_type": "stream",
     "text": [
      "21:24:50 - cmdstanpy - INFO - Chain [1] done processing\n",
      "21:24:55 - cmdstanpy - INFO - Chain [1] start processing\n"
     ]
    },
    {
     "name": "stdout",
     "output_type": "stream",
     "text": [
      "Best so far: 2.8034860413989877\n"
     ]
    },
    {
     "name": "stderr",
     "output_type": "stream",
     "text": [
      "21:24:59 - cmdstanpy - INFO - Chain [1] done processing\n",
      "21:25:04 - cmdstanpy - INFO - Chain [1] start processing\n"
     ]
    },
    {
     "name": "stdout",
     "output_type": "stream",
     "text": [
      "Best so far: 2.8034860413989877\n"
     ]
    },
    {
     "name": "stderr",
     "output_type": "stream",
     "text": [
      "21:25:08 - cmdstanpy - INFO - Chain [1] done processing\n",
      "21:25:14 - cmdstanpy - INFO - Chain [1] start processing\n"
     ]
    },
    {
     "name": "stdout",
     "output_type": "stream",
     "text": [
      "Best so far: 2.8034860413989877\n"
     ]
    },
    {
     "name": "stderr",
     "output_type": "stream",
     "text": [
      "21:25:18 - cmdstanpy - INFO - Chain [1] done processing\n",
      "21:25:24 - cmdstanpy - INFO - Chain [1] start processing\n"
     ]
    },
    {
     "name": "stdout",
     "output_type": "stream",
     "text": [
      "Best so far: 2.8034860413989877\n"
     ]
    },
    {
     "name": "stderr",
     "output_type": "stream",
     "text": [
      "21:25:29 - cmdstanpy - INFO - Chain [1] done processing\n",
      "21:25:35 - cmdstanpy - INFO - Chain [1] start processing\n"
     ]
    },
    {
     "name": "stdout",
     "output_type": "stream",
     "text": [
      "Best so far: 2.8034860413989877\n"
     ]
    },
    {
     "name": "stderr",
     "output_type": "stream",
     "text": [
      "21:25:39 - cmdstanpy - INFO - Chain [1] done processing\n",
      "21:25:44 - cmdstanpy - INFO - Chain [1] start processing\n"
     ]
    },
    {
     "name": "stdout",
     "output_type": "stream",
     "text": [
      "Best so far: 2.8034860413989877\n"
     ]
    },
    {
     "name": "stderr",
     "output_type": "stream",
     "text": [
      "21:25:49 - cmdstanpy - INFO - Chain [1] done processing\n",
      "21:25:54 - cmdstanpy - INFO - Chain [1] start processing\n"
     ]
    },
    {
     "name": "stdout",
     "output_type": "stream",
     "text": [
      "Best so far: 2.8034860413989877\n"
     ]
    },
    {
     "name": "stderr",
     "output_type": "stream",
     "text": [
      "21:25:59 - cmdstanpy - INFO - Chain [1] done processing\n",
      "21:26:05 - cmdstanpy - INFO - Chain [1] start processing\n"
     ]
    },
    {
     "name": "stdout",
     "output_type": "stream",
     "text": [
      "Best so far: 2.8034860413989877\n"
     ]
    },
    {
     "name": "stderr",
     "output_type": "stream",
     "text": [
      "21:26:09 - cmdstanpy - INFO - Chain [1] done processing\n",
      "21:26:14 - cmdstanpy - INFO - Chain [1] start processing\n"
     ]
    },
    {
     "name": "stdout",
     "output_type": "stream",
     "text": [
      "Best so far: 2.8034860413989877\n"
     ]
    },
    {
     "name": "stderr",
     "output_type": "stream",
     "text": [
      "21:26:20 - cmdstanpy - INFO - Chain [1] done processing\n",
      "21:26:25 - cmdstanpy - INFO - Chain [1] start processing\n"
     ]
    },
    {
     "name": "stdout",
     "output_type": "stream",
     "text": [
      "Best so far: 2.8034860413989877\n"
     ]
    },
    {
     "name": "stderr",
     "output_type": "stream",
     "text": [
      "21:26:30 - cmdstanpy - INFO - Chain [1] done processing\n",
      "21:26:36 - cmdstanpy - INFO - Chain [1] start processing\n"
     ]
    },
    {
     "name": "stdout",
     "output_type": "stream",
     "text": [
      "Best so far: 2.8034860413989877\n"
     ]
    },
    {
     "name": "stderr",
     "output_type": "stream",
     "text": [
      "21:26:41 - cmdstanpy - INFO - Chain [1] done processing\n",
      "21:26:47 - cmdstanpy - INFO - Chain [1] start processing\n"
     ]
    },
    {
     "name": "stdout",
     "output_type": "stream",
     "text": [
      "Best so far: 2.8034860413989877\n"
     ]
    },
    {
     "name": "stderr",
     "output_type": "stream",
     "text": [
      "21:26:51 - cmdstanpy - INFO - Chain [1] done processing\n",
      "21:26:57 - cmdstanpy - INFO - Chain [1] start processing\n"
     ]
    },
    {
     "name": "stdout",
     "output_type": "stream",
     "text": [
      "Best so far: 2.8034860413989877\n"
     ]
    },
    {
     "name": "stderr",
     "output_type": "stream",
     "text": [
      "21:27:02 - cmdstanpy - INFO - Chain [1] done processing\n",
      "21:27:07 - cmdstanpy - INFO - Chain [1] start processing\n"
     ]
    },
    {
     "name": "stdout",
     "output_type": "stream",
     "text": [
      "Best so far: 2.8034860413989877\n"
     ]
    },
    {
     "name": "stderr",
     "output_type": "stream",
     "text": [
      "21:27:12 - cmdstanpy - INFO - Chain [1] done processing\n",
      "21:27:17 - cmdstanpy - INFO - Chain [1] start processing\n"
     ]
    },
    {
     "name": "stdout",
     "output_type": "stream",
     "text": [
      "Best so far: 2.8034860413989877\n"
     ]
    },
    {
     "name": "stderr",
     "output_type": "stream",
     "text": [
      "21:27:22 - cmdstanpy - INFO - Chain [1] done processing\n",
      "21:27:27 - cmdstanpy - INFO - Chain [1] start processing\n"
     ]
    },
    {
     "name": "stdout",
     "output_type": "stream",
     "text": [
      "Best so far: 2.8034860413989877\n"
     ]
    },
    {
     "name": "stderr",
     "output_type": "stream",
     "text": [
      "21:27:33 - cmdstanpy - INFO - Chain [1] done processing\n",
      "21:27:37 - cmdstanpy - INFO - Chain [1] start processing\n"
     ]
    },
    {
     "name": "stdout",
     "output_type": "stream",
     "text": [
      "Best so far: 2.8034860413989877\n"
     ]
    },
    {
     "name": "stderr",
     "output_type": "stream",
     "text": [
      "21:27:42 - cmdstanpy - INFO - Chain [1] done processing\n",
      "21:27:48 - cmdstanpy - INFO - Chain [1] start processing\n"
     ]
    },
    {
     "name": "stdout",
     "output_type": "stream",
     "text": [
      "Best so far: 2.8034860413989877\n"
     ]
    },
    {
     "name": "stderr",
     "output_type": "stream",
     "text": [
      "21:27:52 - cmdstanpy - INFO - Chain [1] done processing\n",
      "21:27:57 - cmdstanpy - INFO - Chain [1] start processing\n"
     ]
    },
    {
     "name": "stdout",
     "output_type": "stream",
     "text": [
      "Best so far: 2.8034860413989877\n"
     ]
    },
    {
     "name": "stderr",
     "output_type": "stream",
     "text": [
      "21:28:03 - cmdstanpy - INFO - Chain [1] done processing\n",
      "21:28:08 - cmdstanpy - INFO - Chain [1] start processing\n"
     ]
    },
    {
     "name": "stdout",
     "output_type": "stream",
     "text": [
      "Best so far: 2.8034860413989877\n"
     ]
    },
    {
     "name": "stderr",
     "output_type": "stream",
     "text": [
      "21:28:13 - cmdstanpy - INFO - Chain [1] done processing\n",
      "21:28:19 - cmdstanpy - INFO - Chain [1] start processing\n"
     ]
    },
    {
     "name": "stdout",
     "output_type": "stream",
     "text": [
      "Best so far: 2.8034860413989877\n"
     ]
    },
    {
     "name": "stderr",
     "output_type": "stream",
     "text": [
      "21:28:24 - cmdstanpy - INFO - Chain [1] done processing\n",
      "21:28:28 - cmdstanpy - INFO - Chain [1] start processing\n"
     ]
    },
    {
     "name": "stdout",
     "output_type": "stream",
     "text": [
      "Best so far: 2.8034860413989877\n"
     ]
    },
    {
     "name": "stderr",
     "output_type": "stream",
     "text": [
      "21:28:33 - cmdstanpy - INFO - Chain [1] done processing\n",
      "21:28:38 - cmdstanpy - INFO - Chain [1] start processing\n"
     ]
    },
    {
     "name": "stdout",
     "output_type": "stream",
     "text": [
      "Best so far: 2.8034860413989877\n"
     ]
    },
    {
     "name": "stderr",
     "output_type": "stream",
     "text": [
      "21:28:44 - cmdstanpy - INFO - Chain [1] done processing\n",
      "21:28:50 - cmdstanpy - INFO - Chain [1] start processing\n"
     ]
    },
    {
     "name": "stdout",
     "output_type": "stream",
     "text": [
      "Best so far: 2.8034860413989877\n"
     ]
    },
    {
     "name": "stderr",
     "output_type": "stream",
     "text": [
      "21:28:55 - cmdstanpy - INFO - Chain [1] done processing\n",
      "21:29:01 - cmdstanpy - INFO - Chain [1] start processing\n"
     ]
    },
    {
     "name": "stdout",
     "output_type": "stream",
     "text": [
      "Best so far: 2.8034860413989877\n"
     ]
    },
    {
     "name": "stderr",
     "output_type": "stream",
     "text": [
      "21:29:07 - cmdstanpy - INFO - Chain [1] done processing\n",
      "21:29:12 - cmdstanpy - INFO - Chain [1] start processing\n"
     ]
    },
    {
     "name": "stdout",
     "output_type": "stream",
     "text": [
      "Best so far: 2.8034860413989877\n"
     ]
    },
    {
     "name": "stderr",
     "output_type": "stream",
     "text": [
      "21:29:18 - cmdstanpy - INFO - Chain [1] done processing\n",
      "21:29:23 - cmdstanpy - INFO - Chain [1] start processing\n"
     ]
    },
    {
     "name": "stdout",
     "output_type": "stream",
     "text": [
      "Best so far: 2.8034860413989877\n"
     ]
    },
    {
     "name": "stderr",
     "output_type": "stream",
     "text": [
      "21:29:29 - cmdstanpy - INFO - Chain [1] done processing\n",
      "21:29:34 - cmdstanpy - INFO - Chain [1] start processing\n"
     ]
    },
    {
     "name": "stdout",
     "output_type": "stream",
     "text": [
      "Best so far: 2.8034860413989877\n"
     ]
    },
    {
     "name": "stderr",
     "output_type": "stream",
     "text": [
      "21:29:40 - cmdstanpy - INFO - Chain [1] done processing\n",
      "21:29:46 - cmdstanpy - INFO - Chain [1] start processing\n"
     ]
    },
    {
     "name": "stdout",
     "output_type": "stream",
     "text": [
      "Best so far: 2.8034860413989877\n"
     ]
    },
    {
     "name": "stderr",
     "output_type": "stream",
     "text": [
      "21:29:51 - cmdstanpy - INFO - Chain [1] done processing\n",
      "21:29:57 - cmdstanpy - INFO - Chain [1] start processing\n"
     ]
    },
    {
     "name": "stdout",
     "output_type": "stream",
     "text": [
      "Best so far: 2.8034860413989877\n"
     ]
    },
    {
     "name": "stderr",
     "output_type": "stream",
     "text": [
      "21:30:03 - cmdstanpy - INFO - Chain [1] done processing\n",
      "21:30:08 - cmdstanpy - INFO - Chain [1] start processing\n"
     ]
    },
    {
     "name": "stdout",
     "output_type": "stream",
     "text": [
      "Best so far: 2.8034860413989877\n"
     ]
    },
    {
     "name": "stderr",
     "output_type": "stream",
     "text": [
      "21:30:15 - cmdstanpy - INFO - Chain [1] done processing\n",
      "21:30:20 - cmdstanpy - INFO - Chain [1] start processing\n"
     ]
    },
    {
     "name": "stdout",
     "output_type": "stream",
     "text": [
      "Best so far: 2.8034860413989877\n"
     ]
    },
    {
     "name": "stderr",
     "output_type": "stream",
     "text": [
      "21:30:26 - cmdstanpy - INFO - Chain [1] done processing\n",
      "21:30:32 - cmdstanpy - INFO - Chain [1] start processing\n"
     ]
    },
    {
     "name": "stdout",
     "output_type": "stream",
     "text": [
      "Best so far: 2.8034860413989877\n"
     ]
    },
    {
     "name": "stderr",
     "output_type": "stream",
     "text": [
      "21:30:38 - cmdstanpy - INFO - Chain [1] done processing\n",
      "21:30:43 - cmdstanpy - INFO - Chain [1] start processing\n"
     ]
    },
    {
     "name": "stdout",
     "output_type": "stream",
     "text": [
      "Best so far: 2.8034860413989877\n"
     ]
    },
    {
     "name": "stderr",
     "output_type": "stream",
     "text": [
      "21:30:49 - cmdstanpy - INFO - Chain [1] done processing\n",
      "21:30:54 - cmdstanpy - INFO - Chain [1] start processing\n"
     ]
    },
    {
     "name": "stdout",
     "output_type": "stream",
     "text": [
      "Best so far: 2.8034860413989877\n"
     ]
    },
    {
     "name": "stderr",
     "output_type": "stream",
     "text": [
      "21:31:00 - cmdstanpy - INFO - Chain [1] done processing\n",
      "21:31:06 - cmdstanpy - INFO - Chain [1] start processing\n"
     ]
    },
    {
     "name": "stdout",
     "output_type": "stream",
     "text": [
      "Best so far: 2.8034860413989877\n"
     ]
    },
    {
     "name": "stderr",
     "output_type": "stream",
     "text": [
      "21:31:12 - cmdstanpy - INFO - Chain [1] done processing\n",
      "21:31:17 - cmdstanpy - INFO - Chain [1] start processing\n"
     ]
    },
    {
     "name": "stdout",
     "output_type": "stream",
     "text": [
      "Best so far: 2.8034860413989877\n"
     ]
    },
    {
     "name": "stderr",
     "output_type": "stream",
     "text": [
      "21:31:22 - cmdstanpy - INFO - Chain [1] done processing\n",
      "21:31:29 - cmdstanpy - INFO - Chain [1] start processing\n"
     ]
    },
    {
     "name": "stdout",
     "output_type": "stream",
     "text": [
      "Best so far: 2.8034860413989877\n"
     ]
    },
    {
     "name": "stderr",
     "output_type": "stream",
     "text": [
      "21:31:34 - cmdstanpy - INFO - Chain [1] done processing\n",
      "21:31:40 - cmdstanpy - INFO - Chain [1] start processing\n"
     ]
    },
    {
     "name": "stdout",
     "output_type": "stream",
     "text": [
      "Best so far: 2.8034860413989877\n"
     ]
    },
    {
     "name": "stderr",
     "output_type": "stream",
     "text": [
      "21:31:47 - cmdstanpy - INFO - Chain [1] done processing\n",
      "21:31:52 - cmdstanpy - INFO - Chain [1] start processing\n"
     ]
    },
    {
     "name": "stdout",
     "output_type": "stream",
     "text": [
      "Best so far: 2.8034860413989877\n"
     ]
    },
    {
     "name": "stderr",
     "output_type": "stream",
     "text": [
      "21:31:58 - cmdstanpy - INFO - Chain [1] done processing\n",
      "21:32:04 - cmdstanpy - INFO - Chain [1] start processing\n"
     ]
    },
    {
     "name": "stdout",
     "output_type": "stream",
     "text": [
      "Best so far: 2.8034860413989877\n"
     ]
    },
    {
     "name": "stderr",
     "output_type": "stream",
     "text": [
      "21:32:09 - cmdstanpy - INFO - Chain [1] done processing\n",
      "21:32:15 - cmdstanpy - INFO - Chain [1] start processing\n"
     ]
    },
    {
     "name": "stdout",
     "output_type": "stream",
     "text": [
      "Best so far: 2.8034860413989877\n"
     ]
    },
    {
     "name": "stderr",
     "output_type": "stream",
     "text": [
      "21:32:21 - cmdstanpy - INFO - Chain [1] done processing\n",
      "21:32:26 - cmdstanpy - INFO - Chain [1] start processing\n"
     ]
    },
    {
     "name": "stdout",
     "output_type": "stream",
     "text": [
      "Best so far: 2.8034860413989877\n"
     ]
    },
    {
     "name": "stderr",
     "output_type": "stream",
     "text": [
      "21:32:34 - cmdstanpy - INFO - Chain [1] done processing\n",
      "21:32:40 - cmdstanpy - INFO - Chain [1] start processing\n"
     ]
    },
    {
     "name": "stdout",
     "output_type": "stream",
     "text": [
      "Best so far: 2.8034860413989877\n"
     ]
    },
    {
     "name": "stderr",
     "output_type": "stream",
     "text": [
      "21:32:47 - cmdstanpy - INFO - Chain [1] done processing\n",
      "21:32:54 - cmdstanpy - INFO - Chain [1] start processing\n"
     ]
    },
    {
     "name": "stdout",
     "output_type": "stream",
     "text": [
      "Best so far: 2.8034860413989877\n"
     ]
    },
    {
     "name": "stderr",
     "output_type": "stream",
     "text": [
      "21:33:01 - cmdstanpy - INFO - Chain [1] done processing\n",
      "21:33:08 - cmdstanpy - INFO - Chain [1] start processing\n"
     ]
    },
    {
     "name": "stdout",
     "output_type": "stream",
     "text": [
      "Best so far: 2.8034860413989877\n"
     ]
    },
    {
     "name": "stderr",
     "output_type": "stream",
     "text": [
      "21:33:15 - cmdstanpy - INFO - Chain [1] done processing\n",
      "21:33:22 - cmdstanpy - INFO - Chain [1] start processing\n"
     ]
    },
    {
     "name": "stdout",
     "output_type": "stream",
     "text": [
      "Best so far: 2.8034860413989877\n"
     ]
    },
    {
     "name": "stderr",
     "output_type": "stream",
     "text": [
      "21:33:29 - cmdstanpy - INFO - Chain [1] done processing\n",
      "21:33:36 - cmdstanpy - INFO - Chain [1] start processing\n"
     ]
    },
    {
     "name": "stdout",
     "output_type": "stream",
     "text": [
      "Best so far: 2.8034860413989877\n"
     ]
    },
    {
     "name": "stderr",
     "output_type": "stream",
     "text": [
      "21:33:43 - cmdstanpy - INFO - Chain [1] done processing\n",
      "21:33:49 - cmdstanpy - INFO - Chain [1] start processing\n"
     ]
    },
    {
     "name": "stdout",
     "output_type": "stream",
     "text": [
      "Best so far: 2.8034860413989877\n"
     ]
    },
    {
     "name": "stderr",
     "output_type": "stream",
     "text": [
      "21:33:58 - cmdstanpy - INFO - Chain [1] done processing\n",
      "21:34:04 - cmdstanpy - INFO - Chain [1] start processing\n"
     ]
    },
    {
     "name": "stdout",
     "output_type": "stream",
     "text": [
      "Best so far: 2.8034860413989877\n"
     ]
    },
    {
     "name": "stderr",
     "output_type": "stream",
     "text": [
      "21:34:12 - cmdstanpy - INFO - Chain [1] done processing\n",
      "21:34:18 - cmdstanpy - INFO - Chain [1] start processing\n"
     ]
    },
    {
     "name": "stdout",
     "output_type": "stream",
     "text": [
      "Best so far: 2.8034860413989877\n"
     ]
    },
    {
     "name": "stderr",
     "output_type": "stream",
     "text": [
      "21:34:26 - cmdstanpy - INFO - Chain [1] done processing\n",
      "21:34:33 - cmdstanpy - INFO - Chain [1] start processing\n"
     ]
    },
    {
     "name": "stdout",
     "output_type": "stream",
     "text": [
      "Best so far: 2.8034860413989877\n"
     ]
    },
    {
     "name": "stderr",
     "output_type": "stream",
     "text": [
      "21:34:40 - cmdstanpy - INFO - Chain [1] done processing\n",
      "21:34:46 - cmdstanpy - INFO - Chain [1] start processing\n"
     ]
    },
    {
     "name": "stdout",
     "output_type": "stream",
     "text": [
      "Best so far: 2.8034860413989877\n"
     ]
    },
    {
     "name": "stderr",
     "output_type": "stream",
     "text": [
      "21:34:54 - cmdstanpy - INFO - Chain [1] done processing\n",
      "21:35:00 - cmdstanpy - INFO - Chain [1] start processing\n"
     ]
    },
    {
     "name": "stdout",
     "output_type": "stream",
     "text": [
      "Best so far: 2.8034860413989877\n"
     ]
    },
    {
     "name": "stderr",
     "output_type": "stream",
     "text": [
      "21:35:08 - cmdstanpy - INFO - Chain [1] done processing\n",
      "21:35:14 - cmdstanpy - INFO - Chain [1] start processing\n"
     ]
    },
    {
     "name": "stdout",
     "output_type": "stream",
     "text": [
      "Best so far: 2.8034860413989877\n"
     ]
    },
    {
     "name": "stderr",
     "output_type": "stream",
     "text": [
      "21:35:22 - cmdstanpy - INFO - Chain [1] done processing\n",
      "21:35:29 - cmdstanpy - INFO - Chain [1] start processing\n"
     ]
    },
    {
     "name": "stdout",
     "output_type": "stream",
     "text": [
      "Best so far: 2.8034860413989877\n"
     ]
    },
    {
     "name": "stderr",
     "output_type": "stream",
     "text": [
      "21:35:36 - cmdstanpy - INFO - Chain [1] done processing\n",
      "21:35:42 - cmdstanpy - INFO - Chain [1] start processing\n"
     ]
    },
    {
     "name": "stdout",
     "output_type": "stream",
     "text": [
      "Best so far: 2.8034860413989877\n"
     ]
    },
    {
     "name": "stderr",
     "output_type": "stream",
     "text": [
      "21:35:49 - cmdstanpy - INFO - Chain [1] done processing\n",
      "21:35:56 - cmdstanpy - INFO - Chain [1] start processing\n"
     ]
    },
    {
     "name": "stdout",
     "output_type": "stream",
     "text": [
      "Best so far: 2.8034860413989877\n"
     ]
    },
    {
     "name": "stderr",
     "output_type": "stream",
     "text": [
      "21:36:04 - cmdstanpy - INFO - Chain [1] done processing\n",
      "21:36:10 - cmdstanpy - INFO - Chain [1] start processing\n"
     ]
    },
    {
     "name": "stdout",
     "output_type": "stream",
     "text": [
      "Best so far: 2.8034860413989877\n"
     ]
    },
    {
     "name": "stderr",
     "output_type": "stream",
     "text": [
      "21:36:18 - cmdstanpy - INFO - Chain [1] done processing\n",
      "21:36:25 - cmdstanpy - INFO - Chain [1] start processing\n"
     ]
    },
    {
     "name": "stdout",
     "output_type": "stream",
     "text": [
      "Best so far: 2.8034860413989877\n"
     ]
    },
    {
     "name": "stderr",
     "output_type": "stream",
     "text": [
      "21:36:32 - cmdstanpy - INFO - Chain [1] done processing\n",
      "21:36:39 - cmdstanpy - INFO - Chain [1] start processing\n"
     ]
    },
    {
     "name": "stdout",
     "output_type": "stream",
     "text": [
      "Best so far: 2.8034860413989877\n"
     ]
    },
    {
     "name": "stderr",
     "output_type": "stream",
     "text": [
      "21:36:46 - cmdstanpy - INFO - Chain [1] done processing\n",
      "21:36:53 - cmdstanpy - INFO - Chain [1] start processing\n"
     ]
    },
    {
     "name": "stdout",
     "output_type": "stream",
     "text": [
      "Best so far: 2.8034860413989877\n"
     ]
    },
    {
     "name": "stderr",
     "output_type": "stream",
     "text": [
      "21:37:00 - cmdstanpy - INFO - Chain [1] done processing\n"
     ]
    },
    {
     "name": "stdout",
     "output_type": "stream",
     "text": [
      "Best so far: 2.8034860413989877\n",
      "Best RMSE para dados de teste: 2.8034860413989877\n",
      "Melhor nChange: 30\n",
      "Melhor cp_prior: 16\n",
      "Melhor Seasonality: multiplicative\n"
     ]
    }
   ],
   "source": [
    "prophet_grid_search(df_btc, seasons, n_change, cp_prior, 20)"
   ]
  },
  {
   "cell_type": "markdown",
   "metadata": {},
   "source": [
    "### Resultados"
   ]
  },
  {
   "cell_type": "markdown",
   "metadata": {},
   "source": [
    "Depois de executar a função para cada criptomoeda obtivemos os seguintes resultados:"
   ]
  },
  {
   "cell_type": "markdown",
   "metadata": {},
   "source": [
    "BITCOIN:\\\n",
    "nChange: 100\\\n",
    "Melhor cp_prior: 35\\\n",
    "Melhor Seasonality: multiplicative"
   ]
  },
  {
   "cell_type": "markdown",
   "metadata": {},
   "source": [
    "ETHEREUM\\\n",
    "Melhor RMSE para dados de teste: 84.0241823434274\\\n",
    "Melhor nChange: 30\\\n",
    "Melhor cp_prior: 10\\\n",
    "Melhor Seasonality: multiplicative"
   ]
  },
  {
   "cell_type": "markdown",
   "metadata": {},
   "source": [
    "Lightcoin:\\\n",
    "Melhor RMSE para dados de teste: 2.8034860413989877\\\n",
    "Melhor nChange: 30\\\n",
    "Melhor cp_prior: 16\\\n",
    "Melhor Seasonality: multiplicative"
   ]
  },
  {
   "cell_type": "markdown",
   "metadata": {},
   "source": [
    "### Persistindo o modelo em disco"
   ]
  },
  {
   "cell_type": "markdown",
   "metadata": {},
   "source": [
    "O bloco de codigo abaixo persiste o modelo para o Bitcoin, para persistir pros outros basta trocar o DataFrame"
   ]
  },
  {
   "cell_type": "code",
   "execution_count": 51,
   "metadata": {},
   "outputs": [
    {
     "name": "stderr",
     "output_type": "stream",
     "text": [
      "22:03:28 - cmdstanpy - INFO - Chain [1] start processing\n",
      "22:03:30 - cmdstanpy - INFO - Chain [1] done processing\n"
     ]
    }
   ],
   "source": [
    "persist_data = df_btc[['Date', 'Close']]\n",
    "\n",
    "\n",
    "#criando dict no formato especifico para o prophet e treinando o modelo\n",
    "prophet_df = pd.DataFrame({'ds': persist_data.Date, 'y': persist_data.Close})\n",
    "\n",
    "#Criando o modelo\n",
    "export_model = Prophet(seasonality_mode='multiplicative', n_changepoints=30, changepoint_prior_scale=10)\n",
    "fitted = export_model.fit(prophet_df)\n"
   ]
  },
  {
   "cell_type": "code",
   "execution_count": 52,
   "metadata": {},
   "outputs": [],
   "source": [
    "#Persistindo o modelo em disco\n",
    "picle_out = open(\"eth_predictor.pkl\", mode= 'wb')\n",
    "pickle.dump(fitted, picle_out)\n",
    "picle_out.close()"
   ]
  }
 ],
 "metadata": {
  "kernelspec": {
   "display_name": "Python 3.9.12 ('base')",
   "language": "python",
   "name": "python3"
  },
  "language_info": {
   "codemirror_mode": {
    "name": "ipython",
    "version": 3
   },
   "file_extension": ".py",
   "mimetype": "text/x-python",
   "name": "python",
   "nbconvert_exporter": "python",
   "pygments_lexer": "ipython3",
   "version": "3.9.12"
  },
  "orig_nbformat": 4,
  "vscode": {
   "interpreter": {
    "hash": "ad4078168b69d66fe05634f3b7be757ef4015f974a20b20ffdc4b2de487ad266"
   }
  }
 },
 "nbformat": 4,
 "nbformat_minor": 2
}
